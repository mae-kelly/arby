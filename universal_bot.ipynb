{
  "cells": [
    {
      "cell_type": "markdown",
      "metadata": {},
      "source": [
        "# Universal Arbitrage Bot - M1 Mac & Google Colab A100\\n",
        "This notebook works on both platforms!"
      ]
    },
    {
      "cell_type": "code",
      "execution_count": null,
      "metadata": {},
      "source": [
        "# Platform Detection\\n",
        "import os\\n",
        "import platform\\n",
        "\\n",
        "IS_COLAB = 'COLAB_GPU' in os.environ\\n",
        "IS_M1 = platform.processor() == 'arm' and platform.system() == 'Darwin'\\n",
        "\\n",
        "print(f'Platform: {\"Google Colab\" if IS_COLAB else (\"M1 Mac\" if IS_M1 else \"Other\")}')"
      ]
    },
    {
      "cell_type": "code",
      "execution_count": null,
      "metadata": {},
      "source": [
        "# Install dependencies based on platform\\n",
        "if IS_COLAB:\\n",
        "    !pip install -q ccxt python-dotenv aiohttp websockets\\n",
        "    !pip install -q cupy-cuda11x numba\\n",
        "    print('Installed Colab dependencies')\\n",
        "elif IS_M1:\\n",
        "    !pip install -q ccxt python-dotenv aiohttp websockets\\n",
        "    !pip install -q tensorflow-macos tensorflow-metal\\n",
        "    print('Installed M1 dependencies')\\n",
        "else:\\n",
        "    !pip install -q ccxt python-dotenv aiohttp websockets\\n",
        "    print('Installed CPU dependencies')"
      ]
    },
    {
      "cell_type": "code",
      "execution_count": null,
      "metadata": {},
      "source": [
        "# Load the unified orchestrator\\n",
        "%run src/orchestrator_unified.py"
      ]
    }
  ],
  "metadata": {
    "kernelspec": {
      "display_name": "Python 3",
      "language": "python",
      "name": "python3"
    }
  },
  "nbformat": 4,
  "nbformat_minor": 4
}